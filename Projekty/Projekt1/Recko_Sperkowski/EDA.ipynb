{
 "cells": [
  {
   "cell_type": "markdown",
   "metadata": {
    "id": "M0knaR2XyGQf"
   },
   "source": [
    "# Gender Voice Recognition"
   ]
  },
  {
   "cell_type": "markdown",
   "metadata": {
    "id": "qEqLyKMVneZl"
   },
   "source": [
    "Dane: https://www.apispreadsheets.com/datasets/119"
   ]
  },
  {
   "cell_type": "markdown",
   "metadata": {
    "id": "bqYbOEfny5yt"
   },
   "source": [
    "## Importy"
   ]
  },
  {
   "cell_type": "code",
   "execution_count": null,
   "metadata": {
    "id": "5UQT4pzExiLH"
   },
   "outputs": [],
   "source": [
    "import pandas as pd\r\n",
    "import numpy as np\r\n",
    "import matplotlib.pyplot as plt\r\n",
    "import seaborn as sns"
   ]
  },
  {
   "cell_type": "code",
   "execution_count": null,
   "metadata": {
    "id": "xnsnvw-HyDRY"
   },
   "outputs": [],
   "source": [
    "voice_df = pd.read_csv(\"gender_voice_dataset.csv\")"
   ]
  },
  {
   "cell_type": "markdown",
   "metadata": {
    "id": "jP8VPiOMy8SB"
   },
   "source": [
    "## Analiza wstępna"
   ]
  },
  {
   "cell_type": "code",
   "execution_count": null,
   "metadata": {
    "colab": {
     "base_uri": "https://localhost:8080/"
    },
    "id": "DeTzbdLDkyDP",
    "outputId": "d16fe318-6897-40da-9be9-af5e1fb93277"
   },
   "outputs": [],
   "source": [
    "voice_df.columns"
   ]
  },
  {
   "cell_type": "code",
   "execution_count": null,
   "metadata": {
    "colab": {
     "base_uri": "https://localhost:8080/",
     "height": 226
    },
    "id": "78nlzkGYywiF",
    "outputId": "c8a1e846-e70c-4272-e9a0-d40e3b3652ee"
   },
   "outputs": [],
   "source": [
    "voice_df.head()"
   ]
  },
  {
   "cell_type": "code",
   "execution_count": null,
   "metadata": {
    "colab": {
     "base_uri": "https://localhost:8080/"
    },
    "id": "7b-QFx-vyb_V",
    "outputId": "1aa10546-81d1-4343-b34f-4bd8f7b10c70"
   },
   "outputs": [],
   "source": [
    "voice_df.info()"
   ]
  },
  {
   "cell_type": "code",
   "execution_count": null,
   "metadata": {
    "colab": {
     "base_uri": "https://localhost:8080/",
     "height": 320
    },
    "id": "wU7SRdpQyiPC",
    "outputId": "373a1199-b9be-41ca-9a59-177f8a9a4096"
   },
   "outputs": [],
   "source": [
    "voice_df.describe()"
   ]
  },
  {
   "cell_type": "code",
   "execution_count": null,
   "metadata": {
    "colab": {
     "base_uri": "https://localhost:8080/"
    },
    "id": "tV5nxNOHWry0",
    "outputId": "770944cd-77c0-4d3b-9448-1f86f679a718"
   },
   "outputs": [],
   "source": [
    "count_man=voice_df[voice_df['label']=='male'].shape[0]\r\n",
    "print('Liczba labeli male:',count_man)\r\n",
    "print('Liczba labeli female:',voice_df.shape[0]-count_man)"
   ]
  },
  {
   "cell_type": "code",
   "execution_count": null,
   "metadata": {
    "colab": {
     "base_uri": "https://localhost:8080/"
    },
    "id": "X-Tmxg5-YVtN",
    "outputId": "6a556df7-bb11-499b-8edd-c720b85554ad"
   },
   "outputs": [],
   "source": [
    "voice_df.isnull().sum()"
   ]
  },
  {
   "cell_type": "markdown",
   "metadata": {
    "id": "6q39D_Khy1kD"
   },
   "source": [
    "## Eksploracyjna Analiza Danych"
   ]
  },
  {
   "cell_type": "code",
   "execution_count": null,
   "metadata": {
    "colab": {
     "base_uri": "https://localhost:8080/",
     "height": 1000
    },
    "id": "PTjA_hItOfhq",
    "outputId": "9cb60567-7da9-422b-e219-3e6237326e59"
   },
   "outputs": [],
   "source": [
    "fig, axs = plt.subplots(nrows = 5, ncols=4, figsize=(20,30))\r\n",
    "plt.subplots_adjust(hspace=0.3)\r\n",
    "i = 0\r\n",
    "j = 0\r\n",
    "for col in voice_df.columns:\r\n",
    "  if col == \"label\":\r\n",
    "    continue\r\n",
    "  sns.boxplot(data=voice_df, y=col, x = \"label\", ax = axs[i][j])\r\n",
    "  i+=1\r\n",
    "  if i == 5:\r\n",
    "    i = 0\r\n",
    "    j += 1"
   ]
  },
  {
   "cell_type": "code",
   "execution_count": null,
   "metadata": {
    "colab": {
     "base_uri": "https://localhost:8080/",
     "height": 573
    },
    "id": "Li7Uz6dkwE9b",
    "outputId": "ff3c5f84-5446-44b7-bd3b-62893be1880a"
   },
   "outputs": [],
   "source": [
    "fig, (ax1, ax2) = plt.subplots(nrows = 1, ncols=2, figsize=(20,10))\r\n",
    "plt.subplots_adjust(hspace=0.3)\r\n",
    "sns.boxplot(data=voice_df, y=\"kurt\", x = \"label\", ax = ax1)\r\n",
    "sns.boxplot(data=voice_df, y=\"mindom\", x = \"label\", ax = ax2)\r\n",
    "plt.show()"
   ]
  },
  {
   "cell_type": "code",
   "execution_count": null,
   "metadata": {
    "colab": {
     "base_uri": "https://localhost:8080/",
     "height": 1000
    },
    "id": "52lZSfLEuULz",
    "outputId": "09b010ca-2d4c-4229-9213-fc9e88c9b2f5"
   },
   "outputs": [],
   "source": [
    "fig, axs = plt.subplots(nrows = 5, ncols=4, figsize=(20,30))\r\n",
    "plt.subplots_adjust(hspace=0.3)\r\n",
    "i = 0\r\n",
    "j = 0\r\n",
    "for col in voice_df.columns:\r\n",
    "  if col == \"label\":\r\n",
    "    continue\r\n",
    "  sns.kdeplot(data=voice_df, x=col, hue = \"label\", ax = axs[i][j])\r\n",
    "  i+=1\r\n",
    "  if i == 5:\r\n",
    "    i = 0\r\n",
    "    j += 1"
   ]
  },
  {
   "cell_type": "code",
   "execution_count": null,
   "metadata": {
    "colab": {
     "base_uri": "https://localhost:8080/",
     "height": 578
    },
    "id": "MdN0IBYNoqvb",
    "outputId": "c3edd93c-d925-4500-ae16-c3db8355c574"
   },
   "outputs": [],
   "source": [
    "fig, (ax1, ax2) = plt.subplots(nrows = 1, ncols=2, figsize=(20,10))\r\n",
    "sns.kdeplot(data=voice_df, x=\"modindx\", hue = \"label\", ax = ax2)\r\n",
    "sns.kdeplot(data=voice_df, x=\"IQR\", hue = \"label\", ax = ax1)\r\n",
    "plt.show()"
   ]
  },
  {
   "cell_type": "code",
   "execution_count": null,
   "metadata": {
    "colab": {
     "base_uri": "https://localhost:8080/",
     "height": 1000
    },
    "id": "9AMDSDhlpcwA",
    "outputId": "7801dc55-390a-4716-ef1c-288affce8338"
   },
   "outputs": [],
   "source": [
    "sns.pairplot(data=voice_df, vars=[\"mode\", \"sd\", \"meanfun\", \"IQR\", \"sp.ent\", \"sfm\"], hue=\"label\", plot_kws={\"alpha\":0.2})\r\n",
    "plt.show()"
   ]
  },
  {
   "cell_type": "code",
   "execution_count": null,
   "metadata": {
    "colab": {
     "base_uri": "https://localhost:8080/",
     "height": 566
    },
    "id": "6ntlaKxXi8kg",
    "outputId": "e3463e18-1208-467a-f16d-5087875e16a7"
   },
   "outputs": [],
   "source": [
    "fig, (ax1, ax2) = plt.subplots(nrows=1, ncols=2, figsize=(20,10))\r\n",
    "sns.scatterplot(data=voice_df, x = \"IQR\", y = \"meanfun\", hue = \"label\", alpha=0.3, ax=ax1)\r\n",
    "sns.scatterplot(data=voice_df, x = \"sd\", y = \"meanfun\", hue = \"label\", alpha=0.3, ax=ax2)\r\n",
    "plt.show()"
   ]
  },
  {
   "cell_type": "markdown",
   "metadata": {
    "id": "nStQYJ70w4is"
   },
   "source": [
    "## Znaleziona prosta klasyfikacja"
   ]
  },
  {
   "cell_type": "code",
   "execution_count": null,
   "metadata": {
    "id": "xzroXpKn2JRM"
   },
   "outputs": [],
   "source": [
    "def gender(row):\r\n",
    "  if row[\"meanfun\"] >= 0.14:\r\n",
    "    return \"female\"\r\n",
    "  else:\r\n",
    "    if row[\"IQR\"] >= 0.07:\r\n",
    "      return \"male\"\r\n",
    "    else:\r\n",
    "      return \"female\""
   ]
  },
  {
   "cell_type": "code",
   "execution_count": null,
   "metadata": {
    "id": "gxtlaBzy2uaj"
   },
   "outputs": [],
   "source": [
    "dt = voice_df[[\"meanfun\", \"IQR\"]]\r\n",
    "result = voice_df[\"label\"]"
   ]
  },
  {
   "cell_type": "code",
   "execution_count": null,
   "metadata": {
    "id": "WdRtrZSh21-y"
   },
   "outputs": [],
   "source": [
    "result_function = dt.apply((lambda row : gender(row)), axis = 1)"
   ]
  },
  {
   "cell_type": "code",
   "execution_count": null,
   "metadata": {
    "colab": {
     "base_uri": "https://localhost:8080/"
    },
    "id": "xBzX5Tft3pUw",
    "outputId": "9bd8bb9d-1545-45fe-c84e-109e48ffcbb5"
   },
   "outputs": [],
   "source": [
    "c = pd.concat([result_function, result], axis = 1)\r\n",
    "acc = 1-len(c.loc[c[0]!=c[\"label\"]])/len(voice_df)\r\n",
    "print(f\"Accuracy is equal to {acc}\")"
   ]
  },
  {
   "cell_type": "code",
   "execution_count": null,
   "metadata": {
    "id": "oNXwJmAN3288"
   },
   "outputs": [],
   "source": []
  }
 ],
 "metadata": {
  "colab": {
   "collapsed_sections": [],
   "name": "EDA.ipynb",
   "provenance": [],
   "toc_visible": true
  },
  "kernelspec": {
   "display_name": "WUM_python",
   "language": "python",
   "name": "wum_python"
  },
  "language_info": {
   "codemirror_mode": {
    "name": "ipython",
    "version": 3
   },
   "file_extension": ".py",
   "mimetype": "text/x-python",
   "name": "python",
   "nbconvert_exporter": "python",
   "pygments_lexer": "ipython3",
   "version": "3.9.1"
  }
 },
 "nbformat": 4,
 "nbformat_minor": 4
}
