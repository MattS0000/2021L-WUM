{
 "cells": [
  {
   "cell_type": "markdown",
   "metadata": {
    "id": "5cBufejy-uHy"
   },
   "source": [
    "# Zadanie domowe 4\n",
    "\n",
    "Zadanie dotyczy algorytmu Support Vector Machine, który był omówiony na zajęciach. Zainteresowanych zachęcamy do zapoznania się z http://pyml.sourceforge.net/doc/howto.pdf.\n",
    "\n",
    "Wykorzystaj dwa zbiory danych:\n",
    "\n",
    "  - apartments z R-owego pakietu DALEX,\n",
    "  - dowolny, wybrany przez siebie zbiór danych (najlepiej z co najmniej 8 zmiennymi numerycznymi).\n",
    "\n",
    "1. Dopasuj SVM do obu zbiorów danych.\n",
    "2. Sprawdź, czy zalinkowany artykuł słusznie zwraca uwagę na skalowanie danych (pamiętaj, że większość implementacji domyślnie skaluje).\n",
    "3. Spróbuj zoptymalizować metodą random search najważniejsze hiperparametry tj. :\n",
    "* cost,\n",
    "* gamma,\n",
    "* degree, \n",
    "najprościej optymalizować hiperparametry w SVM z jądrem gaussowskim, ale można też poszukać najlepszego jądra."
   ]
  },
  {
   "cell_type": "markdown",
   "metadata": {
    "id": "qJ1irJOQR5FO"
   },
   "source": [
    "Pakiet Dalex jest również dostepny w Pythonie, więc skorzystam z niego."
   ]
  },
  {
   "cell_type": "code",
   "execution_count": null,
   "metadata": {
    "id": "8snflSjNGrGW"
   },
   "outputs": [],
   "source": [
    "pip install dalex"
   ]
  },
  {
   "cell_type": "code",
   "execution_count": 2,
   "metadata": {
    "id": "3Jgz7z2Y-rNO"
   },
   "outputs": [],
   "source": [
    "import pandas as pd\n",
    "import numpy as np\n",
    "from sklearn.model_selection import train_test_split, RandomizedSearchCV\n",
    "from sklearn.preprocessing import OneHotEncoder, StandardScaler\n",
    "from sklearn.svm import SVR, SVC\n",
    "from sklearn.datasets import load_diabetes\n",
    "from sklearn.pipeline import make_pipeline\n",
    "from sklearn.metrics import mean_squared_error as mse\n",
    "from dalex.datasets import load_apartments, load_apartments_test"
   ]
  },
  {
   "cell_type": "code",
   "execution_count": 3,
   "metadata": {
    "id": "tyomNaZc1E-Y"
   },
   "outputs": [],
   "source": [
    "data_apartments = load_apartments()\n",
    "data_apartments_test = load_apartments_test()\n",
    "apartments_X_train = data_apartments.drop([\"m2_price\"], axis=1)\n",
    "apartments_y_train = data_apartments[\"m2_price\"]\n",
    "apartments_X_test = data_apartments_test.drop([\"m2_price\"], axis=1)\n",
    "apartments_y_test = data_apartments_test[\"m2_price\"]\n",
    "enc = OneHotEncoder(sparse=False)\n",
    "apartments_X_train['district'] = enc.fit_transform(apartments_X_train)\n",
    "apartments_X_test['district'] = enc.transform(apartments_X_test)"
   ]
  },
  {
   "cell_type": "code",
   "execution_count": 4,
   "metadata": {
    "colab": {
     "base_uri": "https://localhost:8080/"
    },
    "id": "Xn6IlpZk1HW3",
    "outputId": "1d8e6e72-2313-44a6-ba74-af81618251bc"
   },
   "outputs": [
    {
     "data": {
      "text/plain": [
       "['age', 'sex', 'bmi', 'bp', 's1', 's2', 's3', 's4', 's5', 's6']"
      ]
     },
     "execution_count": 4,
     "metadata": {
      "tags": []
     },
     "output_type": "execute_result"
    }
   ],
   "source": [
    "data_diabetes = load_diabetes()\n",
    "diabetes_X = data_diabetes['data']\n",
    "diabetes_y = data_diabetes['target']\n",
    "diabetes_feature_names = data_diabetes['feature_names']\n",
    "diabetes_X_train, diabetes_X_test, diabetes_y_train, diabetes_y_test = train_test_split(diabetes_X, diabetes_y, test_size=0.33)\n",
    "diabetes_feature_names"
   ]
  },
  {
   "cell_type": "code",
   "execution_count": 5,
   "metadata": {
    "id": "FxUxLdhLyvgW"
   },
   "outputs": [],
   "source": [
    "scaler1 = StandardScaler()\n",
    "diabetes_X_train_scaled = scaler1.fit_transform(diabetes_X_train)\n",
    "diabetes_X_test_scaled = scaler1.fit_transform(diabetes_X_test)\n",
    "\n",
    "scaler2 = StandardScaler()\n",
    "apartments_X_train_scaled = scaler2.fit_transform(apartments_X_train)\n",
    "apartments_X_test_scaled = scaler2.fit_transform(apartments_X_test)"
   ]
  },
  {
   "cell_type": "code",
   "execution_count": 6,
   "metadata": {
    "colab": {
     "base_uri": "https://localhost:8080/"
    },
    "id": "AmnxfKkBLMg2",
    "outputId": "0fc931aa-9d8b-4013-9d47-32be7f3d17dc"
   },
   "outputs": [
    {
     "name": "stdout",
     "output_type": "stream",
     "text": [
      "RMSE: 71.93419377353958\n",
      "RMSE scaled: 71.81253404625602\n",
      "Test_std: 78.15581964810877\n"
     ]
    }
   ],
   "source": [
    "svm_diabetes = SVR()\n",
    "svm_diabetes.fit(diabetes_X_train, diabetes_y_train)\n",
    "y_hat = svm_diabetes.predict(diabetes_X_test)\n",
    "\n",
    "svm_diabetes3 = SVR()\n",
    "svm_diabetes3.fit(diabetes_X_train_scaled, diabetes_y_train)\n",
    "y_hat_scaled = svm_diabetes3.predict(diabetes_X_test_scaled)\n",
    "\n",
    "print(f\"RMSE: {mse(y_hat, diabetes_y_test, squared=False)}\")\n",
    "print(f\"RMSE scaled: {mse(y_hat_scaled, diabetes_y_test, squared=False)}\")\n",
    "print(f\"Test_std: {np.std(diabetes_y_test)}\")"
   ]
  },
  {
   "cell_type": "code",
   "execution_count": 7,
   "metadata": {
    "colab": {
     "base_uri": "https://localhost:8080/"
    },
    "id": "b774d2bIUufb",
    "outputId": "701531ad-7d29-490c-b8b1-68e7c0ea231b"
   },
   "outputs": [
    {
     "name": "stdout",
     "output_type": "stream",
     "text": [
      "RMSE: 908.9981030762165\n",
      "RMSE scaled: 880.3441230797098\n",
      "Test_std: 900.4468304993062\n"
     ]
    }
   ],
   "source": [
    "svm_apartments = SVR()\n",
    "svm_apartments.fit(apartments_X_train, apartments_y_train)\n",
    "y_hat = svm_apartments.predict(apartments_X_test)\n",
    "\n",
    "svm_apartments3 = SVR()\n",
    "svm_apartments3.fit(apartments_X_train_scaled, apartments_y_train)\n",
    "y_hat_scaled = svm_apartments3.predict(apartments_X_test_scaled)\n",
    "\n",
    "print(f\"RMSE: {mse(y_hat, apartments_y_test, squared=False)}\")\n",
    "print(f\"RMSE scaled: {mse(y_hat_scaled, apartments_y_test, squared=False)}\")\n",
    "print(f\"Test_std: {np.std(apartments_y_test)}\")"
   ]
  },
  {
   "cell_type": "markdown",
   "metadata": {
    "id": "cybA-cXt_SIw"
   },
   "source": [
    "W zbiorze dotyczącym cukrzyc dane zostały wcześniej już przeskalowane (wdg. dokumentacji), nie widać więc poprawy wyniku po kolejnej operacji skalowania. Natomiast dane apartments nie były skalowane i widoczne jest polepszenie wyniku gdy korzystamy z przeskalowanych danych. Zgadza się z uwagami wspominanego artykułu."
   ]
  },
  {
   "cell_type": "code",
   "execution_count": 8,
   "metadata": {
    "id": "TaipnDr3b6qI"
   },
   "outputs": [],
   "source": [
    "C_vals = [0.1*i for i in range(1,21)] + [1*i for i in range(1,21)] + [10*i for i in range(1,21)]\n",
    "#Regularization parameter. The strength of the regularization is inversely proportional to C. Must be strictly positive. \n",
    "#The penalty is a squared l2 penalty. default=1.0\n",
    "\n",
    "#degrees = [i for i in range(1,15)]\n",
    "degrees = [i for i in range(1,5)]\n",
    "#Degree of the polynomial kernel function (‘poly’). Ignored by all other kernels. degree int, default=3\n",
    "\n",
    "gammas = ['scale', 'auto'] + [0.1*i for i in range(1,51)]\n",
    "#Kernel coefficient for ‘rbf’, ‘poly’ and ‘sigmoid’. gamma{‘scale’, ‘auto’} or float, default=’scale’\n",
    "\n",
    "#kernel{‘linear’, ‘poly’, ‘rbf’, ‘sigmoid’, ‘precomputed’}, default=’rbf’"
   ]
  },
  {
   "cell_type": "code",
   "execution_count": 9,
   "metadata": {
    "colab": {
     "base_uri": "https://localhost:8080/"
    },
    "id": "IdT83ivKHeOE",
    "outputId": "995605a8-c7a5-4de5-b971-f13821e92d00"
   },
   "outputs": [
    {
     "name": "stdout",
     "output_type": "stream",
     "text": [
      "{'gamma': 3.7, 'degree': 1, 'C': 100}\n",
      "0.47714795404624566\n"
     ]
    }
   ],
   "source": [
    "svm_diabetes_optim = SVR(kernel='poly')\n",
    "params = dict(C=C_vals, degree=degrees, gamma=gammas)\n",
    "randomsrc = RandomizedSearchCV(svm_diabetes_optim, params, n_iter=100, n_jobs=-1)\n",
    "searched = randomsrc.fit(diabetes_X, diabetes_y)\n",
    "print(searched.best_params_)\n",
    "print(searched.best_score_)"
   ]
  },
  {
   "cell_type": "code",
   "execution_count": 10,
   "metadata": {
    "colab": {
     "base_uri": "https://localhost:8080/"
    },
    "id": "6ivdcE8FG9aF",
    "outputId": "e84bed09-290f-46e6-b5f0-477d66e8788d"
   },
   "outputs": [
    {
     "name": "stdout",
     "output_type": "stream",
     "text": [
      "{'gamma': 4.2, 'C': 80}\n",
      "0.4920086988491194\n"
     ]
    }
   ],
   "source": [
    "svm_diabetes_optim = SVR(kernel='rbf')\n",
    "params = dict(C=C_vals, gamma=gammas)\n",
    "randomsrc = RandomizedSearchCV(svm_diabetes_optim, params, n_iter=100, n_jobs=-1)\n",
    "searched = randomsrc.fit(diabetes_X, diabetes_y)\n",
    "print(searched.best_params_)\n",
    "print(searched.best_score_)"
   ]
  },
  {
   "cell_type": "code",
   "execution_count": 11,
   "metadata": {
    "colab": {
     "base_uri": "https://localhost:8080/"
    },
    "id": "FGUs738vG9p1",
    "outputId": "39bb2acf-5e6b-4e3b-87a1-72e374462ffc"
   },
   "outputs": [
    {
     "name": "stdout",
     "output_type": "stream",
     "text": [
      "{'gamma': 4.2, 'C': 100}\n",
      "0.4773035712343643\n"
     ]
    }
   ],
   "source": [
    "svm_diabetes_optim = SVR(kernel='sigmoid')\n",
    "params = dict(C=C_vals, gamma=gammas)\n",
    "randomsrc = RandomizedSearchCV(svm_diabetes_optim, params, n_iter=100, n_jobs=-1)\n",
    "searched = randomsrc.fit(diabetes_X, diabetes_y)\n",
    "print(searched.best_params_)\n",
    "print(searched.best_score_)"
   ]
  },
  {
   "cell_type": "code",
   "execution_count": 12,
   "metadata": {
    "colab": {
     "base_uri": "https://localhost:8080/"
    },
    "id": "lQN77kpUYjb9",
    "outputId": "685cd13a-83ae-4289-9c35-cb2a33797c39"
   },
   "outputs": [
    {
     "name": "stdout",
     "output_type": "stream",
     "text": [
      "0.023858307448529636\n",
      "{'gamma': 'auto', 'C': 170}\n"
     ]
    }
   ],
   "source": [
    "svm_apartments_optim = SVR()\n",
    "params = dict(C=C_vals, gamma=gammas)\n",
    "randomsrc = RandomizedSearchCV(svm_apartments_optim, params, n_iter=100, n_jobs=-1)\n",
    "searched2 = randomsrc.fit(apartments_X_train, apartments_y_train)\n",
    "print(searched2.best_score_)\n",
    "print(searched2.best_params_)"
   ]
  },
  {
   "cell_type": "markdown",
   "metadata": {
    "id": "QZj9dodRLrIG"
   },
   "source": [
    "Inne kernele dla apartments nigdy się nie kończą, przeprowadzam więc search na domyślnym czyli rbf. Dodatkowo w tym wypadku niestety parametr \"degree\" nie ma znaczenia, ponieważ jest używany tylko w kernel='poly', więc nie ma sensu go optymalizować."
   ]
  }
 ],
 "metadata": {
  "colab": {
   "name": "WUM-PD4.ipynb",
   "provenance": []
  },
  "kernelspec": {
   "display_name": "Python 3",
   "language": "python",
   "name": "python3"
  },
  "language_info": {
   "codemirror_mode": {
    "name": "ipython",
    "version": 3
   },
   "file_extension": ".py",
   "mimetype": "text/x-python",
   "name": "python",
   "nbconvert_exporter": "python",
   "pygments_lexer": "ipython3",
   "version": "3.7.4"
  }
 },
 "nbformat": 4,
 "nbformat_minor": 4
}
