{
 "cells": [
  {
   "cell_type": "markdown",
   "metadata": {},
   "source": [
    "## Praca domowa 1\n",
    "#### Eksploracja zbioru https://www.apispreadsheets.com/datasets/129"
   ]
  },
  {
   "cell_type": "markdown",
   "metadata": {},
   "source": [
    "Import bibliotek i wczytanie danych"
   ]
  },
  {
   "cell_type": "code",
   "execution_count": null,
   "metadata": {},
   "outputs": [],
   "source": [
    "import pandas as pd\n",
    "import numpy as np\n",
    "import matplotlib.pyplot as plt\n",
    "import seaborn as sns"
   ]
  },
  {
   "cell_type": "code",
   "execution_count": null,
   "metadata": {},
   "outputs": [],
   "source": [
    "df = pd.read_csv(\"forest_fires_dataset.csv\")\n",
    "df.info()"
   ]
  },
  {
   "cell_type": "markdown",
   "metadata": {},
   "source": [
    "Od razu możemy zauważyć, że nie mamy braków danych, więc nie musimy się tym przejmować. "
   ]
  },
  {
   "cell_type": "code",
   "execution_count": null,
   "metadata": {},
   "outputs": [],
   "source": [
    "df.describe()"
   ]
  },
  {
   "cell_type": "code",
   "execution_count": null,
   "metadata": {},
   "outputs": [],
   "source": [
    "df.hist(figsize=(21, 12), bins=50)\n",
    "plt.show()"
   ]
  },
  {
   "cell_type": "markdown",
   "metadata": {},
   "source": [
    "##### Naszą zmienną objaśnianą jest **powierzchnia lasu**. Widzimy, że ma ona rozkład skośny do 0. \n",
    "##### Wśród zmiennych objaśniających mamy:\n",
    "- zmienne kategoryczne (X, Y, month, day)\n",
    "- zmienne numeryczne (reszta)\n",
    "##### Wyjaśnijmy skrótowe zmienne:\n",
    "-FFMC - wilgotność ściułki w lesie\n",
    "-DMC - wilgotność warstw organicznych średniej głębokości\n",
    "-DC - wilgotność błębokich warstw\n",
    "-ISI - określa jak szybko pożar może się rozprzestrzeniać\n",
    "-RH - wilgotność powietrza\n"
   ]
  },
  {
   "cell_type": "markdown",
   "metadata": {},
   "source": [
    "#### Heatmapa korelacji"
   ]
  },
  {
   "cell_type": "code",
   "execution_count": null,
   "metadata": {},
   "outputs": [],
   "source": [
    "plt.figure(figsize=(16,16))\n",
    "sns.heatmap(df.corr(), annot=True)\n",
    "plt.show()"
   ]
  },
  {
   "cell_type": "markdown",
   "metadata": {},
   "source": [
    "##### Możemy zauważyć korelację pomiędzy współczynnikami wilgotności gleby na różnych poziomach między sobą oraz z temperatuarą."
   ]
  },
  {
   "cell_type": "code",
   "execution_count": null,
   "metadata": {},
   "outputs": [],
   "source": [
    "#### Przenalizujmy teraz zależności pomiędzy zmiennymi "
   ]
  },
  {
   "cell_type": "code",
   "execution_count": null,
   "metadata": {},
   "outputs": [],
   "source": [
    "sns.pairplot(df.drop('area', axis=1))\n",
    "plt.show()"
   ]
  },
  {
   "cell_type": "markdown",
   "metadata": {},
   "source": [
    "Możemy zauważyć, że w niektórych obserwacjach istnieją pojedyńcze obserwacje odstające zaburzające odbiór wykresów. Szczególnie rzuca się w oczy wyjątkowo duże obserwacje odstające w kolumnach rain i ISI. Zobaczmy zatem jak wykresy będzie wyglądał bez nich."
   ]
  },
  {
   "cell_type": "code",
   "execution_count": null,
   "metadata": {},
   "outputs": [],
   "source": [
    "tdf = df.loc[(df['rain']<=5) & (df['ISI']<=40)]\n",
    "sns.pairplot(tdf.drop('area', axis=1))\n",
    "plt.show()"
   ]
  },
  {
   "cell_type": "markdown",
   "metadata": {},
   "source": [
    "Raz jeszcze widzimy skorelowanie wcześniej wspomnianych współczynników. Zauważmy, że współżędne na tych wykresach nie mówią nam za wiele. Sprawdźmy lecz czy występują jakieś miejsca wyjątkowo narażone na pożary."
   ]
  },
  {
   "cell_type": "code",
   "execution_count": null,
   "metadata": {},
   "outputs": [],
   "source": [
    "fdf = (df.groupby([\"X\", \"Y\"]).size().reset_index(name='fires_n')).pivot(index=\"Y\", columns=\"X\", values=\"fires_n\").fillna(0)\n",
    "sns.heatmap(fdf, cmap=\"Reds\")\n",
    "plt.show()"
   ]
  },
  {
   "cell_type": "markdown",
   "metadata": {},
   "source": [
    "Możemy zauważyć, że znacznie wyróżniają się miejsca, w ktrórych pożary występują wyjątkowo często."
   ]
  },
  {
   "cell_type": "markdown",
   "metadata": {},
   "source": [
    "##### Spójrzmy teraz jak na liczbę pożarów wpływa miesiąc i dzień"
   ]
  },
  {
   "cell_type": "code",
   "execution_count": null,
   "metadata": {},
   "outputs": [],
   "source": [
    "months_order=['jan','feb','mar','apr','may','jun','jul','aug','sep','oct','nov','dec']\n",
    "grouped_by_month = df.groupby(\"month\").size().reindex(months_order)\n",
    "sns.lineplot(data=grouped_by_month)\n",
    "plt.show()\n"
   ]
  },
  {
   "cell_type": "code",
   "execution_count": null,
   "metadata": {},
   "outputs": [],
   "source": [
    "days_order=['mon', 'tue', 'wed', 'thu', 'fri', 'sat', 'sun']\n",
    "grouped_by_day=df.groupby(\"day\").size().reindex(days_order)\n",
    "sns.lineplot(data=grouped_by_day).axes.set_ylim(0,110)\n",
    "plt.show()"
   ]
  },
  {
   "cell_type": "markdown",
   "metadata": {},
   "source": [
    "Wyraźnie widać, że pożary znacznie częśniej występowały w wakacyjne miesiące. Wyróżnia się również spora liczba pożarów w marcu. Możemy także zauważyć, że więcej pożarów miało miejsce w weekendy."
   ]
  },
  {
   "cell_type": "markdown",
   "metadata": {},
   "source": [
    "### Pakiet do automatycznej eksploracji"
   ]
  },
  {
   "cell_type": "code",
   "execution_count": null,
   "metadata": {},
   "outputs": [],
   "source": [
    "from pandas_profiling import ProfileReport"
   ]
  },
  {
   "cell_type": "code",
   "execution_count": null,
   "metadata": {},
   "outputs": [],
   "source": [
    "profile = ProfileReport(df, title=\"Pandas Profiling Report\")\n",
    "profile.to_notebook_iframe()"
   ]
  },
  {
   "cell_type": "code",
   "execution_count": null,
   "metadata": {},
   "outputs": [],
   "source": [
    "profile.to_file(\"raport.html\")"
   ]
  },
  {
   "cell_type": "markdown",
   "metadata": {},
   "source": [
    "Narzędzie to pozwala na dosyć szybkie (zależne od wielkości danych) przeanalizowanie danego zbiorku. Oczywiście jest ograniczone i nie zapewnia takich możliwości jak własna analiza.\n",
    "Na pewno narzędzie to może pomóc przy wstępnej analizie danych i po przeanalizowaniu może pozwolić nam do zabrania się za bardziej szczegółowej, wnikliwej analizy."
   ]
  }
 ],
 "metadata": {
  "kernelspec": {
   "display_name": "Python 3",
   "language": "python",
   "name": "python3"
  },
  "language_info": {
   "codemirror_mode": {
    "name": "ipython",
    "version": 3
   },
   "file_extension": ".py",
   "mimetype": "text/x-python",
   "name": "python",
   "nbconvert_exporter": "python",
   "pygments_lexer": "ipython3",
   "version": "3.9.0"
  }
 },
 "nbformat": 4,
 "nbformat_minor": 4
}
