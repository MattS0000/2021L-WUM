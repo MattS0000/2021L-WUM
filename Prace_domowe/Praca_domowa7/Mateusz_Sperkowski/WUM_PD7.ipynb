{
 "cells": [
  {
   "cell_type": "markdown",
   "metadata": {
    "id": "SdA0_NjU6yTb"
   },
   "source": [
    "# Praca domowa 7\n",
    "\n",
    "## Zbiór danych\n",
    "\n",
    "Poniższe zbiory zostały wyodrębnione ze zbioru [Wine UCI](https://archive.ics.uci.edu/ml/datasets/wine):\n",
    "\n",
    "\n",
    "- train - bez próbek odstających, do trenowania modelu\n",
    "- test - do oceny skuteczności modelu, dodana informacja o klasie 0=inliers, 1=outliers\n",
    "- val - analogiczny do test, ale bez klasy\n",
    "\n",
    "## Treść zadania\n",
    "\n",
    "Celem zadania jest wykorzytanie algorytmu GMM do wykrywania próbek odstających.\n",
    "\n",
    "Do oceny modelu wykorzystać metryki F1 score, Precision i Recall.\n"
   ]
  },
  {
   "cell_type": "code",
   "execution_count": null,
   "metadata": {
    "id": "qz1NJOPQ6rrG"
   },
   "outputs": [],
   "source": [
    "from sklearn.mixture import GaussianMixture\n",
    "from sklearn.metrics import f1_score, precision_score, recall_score\n",
    "from sklearn.decomposition import PCA\n",
    "from math import floor, ceil\n",
    "\n",
    "import pandas as pd\n",
    "import numpy as np\n",
    "import seaborn as sns\n",
    "import matplotlib.pyplot as plt"
   ]
  },
  {
   "cell_type": "code",
   "execution_count": null,
   "metadata": {
    "id": "VZnc2O4ODtQw"
   },
   "outputs": [],
   "source": [
    "def print_result(truth, pred):\n",
    "  print(f\"Precision score: {precision_score(truth, pred)}\")\n",
    "  print(f\"F1 score:        {f1_score(truth, pred)}\")\n",
    "  print(f\"Recall score:    {recall_score(truth, pred)}\")"
   ]
  },
  {
   "cell_type": "code",
   "execution_count": null,
   "metadata": {
    "id": "ttvPU1pC7KyB"
   },
   "outputs": [],
   "source": [
    "test = pd.read_csv(\"https://raw.githubusercontent.com/mini-pw/2021L-WUM/main/Prace_domowe/Praca_domowa7/test.csv\")\n",
    "X_train = pd.read_csv(\"https://raw.githubusercontent.com/mini-pw/2021L-WUM/main/Prace_domowe/Praca_domowa7/train.csv\")\n",
    "y_train = [0]*X_train.shape[0]\n",
    "X_val = pd.read_csv(\"https://raw.githubusercontent.com/mini-pw/2021L-WUM/main/Prace_domowe/Praca_domowa7/val.csv\")\n",
    "y_test = test['class']\n",
    "X_test = test.drop(['class'], axis=1)"
   ]
  },
  {
   "cell_type": "code",
   "execution_count": null,
   "metadata": {
    "colab": {
     "base_uri": "https://localhost:8080/"
    },
    "id": "5WNjT5sc7YSD",
    "outputId": "c9a34cbf-7581-4aa3-9e8c-a15878169313"
   },
   "outputs": [],
   "source": [
    "print(test.shape)\n",
    "print(X_train.shape)\n",
    "print(X_val.shape)"
   ]
  },
  {
   "cell_type": "code",
   "execution_count": null,
   "metadata": {
    "colab": {
     "base_uri": "https://localhost:8080/",
     "height": 223
    },
    "id": "x1apj8KiBGIX",
    "outputId": "0fd69fef-33fd-42be-cc54-761323d07cc5"
   },
   "outputs": [],
   "source": [
    "X_train.head()"
   ]
  },
  {
   "cell_type": "code",
   "execution_count": null,
   "metadata": {
    "colab": {
     "base_uri": "https://localhost:8080/",
     "height": 223
    },
    "id": "P9-iZri9BEPg",
    "outputId": "1b400eeb-6ad0-452a-f957-a588c945b6a0"
   },
   "outputs": [],
   "source": [
    "X_test.head()"
   ]
  },
  {
   "cell_type": "code",
   "execution_count": null,
   "metadata": {
    "colab": {
     "base_uri": "https://localhost:8080/",
     "height": 1000
    },
    "id": "01AifFgApg88",
    "outputId": "38b338ea-6254-454e-b6ca-78342923f742"
   },
   "outputs": [],
   "source": [
    "covariances=['full', 'tied', 'diag', 'spherical']\n",
    "fig, ax = plt.subplots(2,2, figsize=(16,16))\n",
    "for i in range(2):\n",
    "  for j in range(2):\n",
    "    GMM = GaussianMixture(n_components=2, covariance_type=covariances[j+2*i], tol=0.001)\n",
    "    GMM.fit(X_train)\n",
    "    score_train = GMM.score_samples(X_train)\n",
    "    sns.boxplot(x=score_train, ax=ax[i][j])\n",
    "    ax[i][j].title.set_text(covariances[j+2*i])\n",
    "plt.suptitle('Examples of different covariances types in GMM')\n",
    "plt.show()"
   ]
  },
  {
   "cell_type": "code",
   "execution_count": null,
   "metadata": {
    "id": "ooulTOA27Vf2"
   },
   "outputs": [],
   "source": [
    "def test_covariances(n_components):\n",
    "  for cov in covariances:\n",
    "    print(\"covariance type: \" + cov)\n",
    "    tmp_GMM = GaussianMixture(n_components=n_components, covariance_type=cov)\n",
    "    tmp_GMM.fit(X_train)\n",
    "    tmp_score_train = tmp_GMM.score_samples(X_train)\n",
    "    tmp_score_test = tmp_GMM.score_samples(X_test)\n",
    "    tmp_simple_threshold = floor(min(tmp_score_train)), ceil(max(tmp_score_train))\n",
    "    tmp_y_test_pred = [1 if (i<tmp_simple_threshold[0] or i>tmp_simple_threshold[1]) else 0 for i in tmp_score_test]\n",
    "    print('Prediction:     ', tmp_y_test_pred)\n",
    "    print('Ground Truth:   ', list(y_test))\n",
    "    print_result(y_test, tmp_y_test_pred)\n",
    "    print()"
   ]
  },
  {
   "cell_type": "code",
   "execution_count": null,
   "metadata": {
    "colab": {
     "base_uri": "https://localhost:8080/"
    },
    "id": "Q4y0xIMt-IxS",
    "outputId": "4dc9d9e7-bddc-4b77-93b7-453d881453cc"
   },
   "outputs": [],
   "source": [
    "test_covariances(2)"
   ]
  },
  {
   "cell_type": "code",
   "execution_count": null,
   "metadata": {
    "colab": {
     "base_uri": "https://localhost:8080/"
    },
    "id": "jxUEUr7m-OlJ",
    "outputId": "c22c21f8-2863-4d44-cb28-0173fbb59a10"
   },
   "outputs": [],
   "source": [
    "test_covariances(4)"
   ]
  },
  {
   "cell_type": "code",
   "execution_count": null,
   "metadata": {
    "id": "IxzLEU5sfa_l"
   },
   "outputs": [],
   "source": [
    "GMM1 = GaussianMixture(n_components=2, covariance_type='tied').fit(X_train)\n",
    "GMM2 = GaussianMixture(n_components=4, covariance_type='diag').fit(X_train)"
   ]
  },
  {
   "cell_type": "code",
   "execution_count": null,
   "metadata": {
    "colab": {
     "base_uri": "https://localhost:8080/",
     "height": 607
    },
    "id": "WSqoxGmVfbRl",
    "outputId": "f2f6c320-56f1-427f-93b0-fcfe156a36ee"
   },
   "outputs": [],
   "source": [
    "score1_train = GMM1.score_samples(X_train)\n",
    "score2_train = GMM2.score_samples(X_train)\n",
    "f, (ax1, ax2) = plt.subplots(nrows=1, ncols=2, figsize=(16,10))\n",
    "sns.boxplot(x=score1_train, ax=ax1)\n",
    "sns.boxplot(x=score2_train, ax=ax2)\n",
    "ax1.set_title('Score of train samples using GMM1')\n",
    "ax2.set_title('Score of train samples using GMM2')\n",
    "plt.show()"
   ]
  },
  {
   "cell_type": "markdown",
   "metadata": {
    "id": "mdSBBI1XoNO1"
   },
   "source": [
    "Since the train dataset is the true dataset used to fitting, we assume all of its elements are the inliers, when setting the first threshold."
   ]
  },
  {
   "cell_type": "code",
   "execution_count": null,
   "metadata": {
    "colab": {
     "base_uri": "https://localhost:8080/"
    },
    "id": "AhMzYx2jgcN6",
    "outputId": "2ef55cbb-5283-4fc0-f7a3-1a2853fa3b5d"
   },
   "outputs": [],
   "source": [
    "simple_threshold1 = floor(min(score1_train)), ceil(max(score1_train))\n",
    "simple_threshold2 = floor(min(score2_train)), ceil(max(score2_train))\n",
    "print(f\"Threshold1 is equal to: {simple_threshold1}\")\n",
    "print(f\"Threshold2 is equal to: {simple_threshold2}\")"
   ]
  },
  {
   "cell_type": "code",
   "execution_count": null,
   "metadata": {
    "colab": {
     "base_uri": "https://localhost:8080/",
     "height": 644
    },
    "id": "5Awo0fKtgXR5",
    "outputId": "bdfa411b-4a5c-4147-dd75-be7dca66015a"
   },
   "outputs": [],
   "source": [
    "score1_val = GMM1.score_samples(X_val)\n",
    "y_val1 = [1 if (i<simple_threshold1[0] or i>simple_threshold1[1]) else 0 for i in score1_val]\n",
    "score2_val = GMM2.score_samples(X_val)\n",
    "y_val2 = [1 if (i<simple_threshold2[0] or i>simple_threshold2[1]) else 0 for i in score2_val]\n",
    "print('Prediction1:  ', y_val1)\n",
    "print('Prediction2:  ', y_val2)\n",
    "f, (ax1, ax2) = plt.subplots(nrows=1, ncols=2, figsize=(16,10))\n",
    "sns.boxplot(x=score1_val, ax=ax1)\n",
    "sns.boxplot(x=score2_val, ax=ax2)\n",
    "ax1.set_title('Score of val samples using GMM1')\n",
    "ax2.set_title('Score of val samples using GMM2')\n",
    "plt.show()"
   ]
  },
  {
   "cell_type": "code",
   "execution_count": null,
   "metadata": {
    "colab": {
     "base_uri": "https://localhost:8080/"
    },
    "id": "Xkm6KuChg-9z",
    "outputId": "19b587a5-671e-4509-83b1-bfab1a846670"
   },
   "outputs": [],
   "source": [
    "val_outliers1 = score1_val[np.logical_or(score1_val < simple_threshold1[0], score1_val > simple_threshold1[1])]\n",
    "val_outliers2 = score2_val[np.logical_or(score2_val < simple_threshold2[0], score2_val > simple_threshold2[1])]\n",
    "print(len(val_outliers1), 'outliers, out of', X_val.shape[0], 'elements in validation set on gmm1')\n",
    "print(len(val_outliers2), 'outliers, out of', X_val.shape[0], 'elements in validation set on gmm2')"
   ]
  },
  {
   "cell_type": "code",
   "execution_count": null,
   "metadata": {
    "colab": {
     "base_uri": "https://localhost:8080/",
     "height": 607
    },
    "id": "s_CvGX92iqPL",
    "outputId": "982384be-ee73-4adf-cb03-175774ed9a45"
   },
   "outputs": [],
   "source": [
    "score1_test = GMM1.score_samples(X_test)\n",
    "y_test_pred1 = [1 if (i<simple_threshold1[0] or i>simple_threshold1[1]) else 0 for i in score1_test]\n",
    "score2_test = GMM2.score_samples(X_test)\n",
    "y_test_pred2 = [1 if (i<simple_threshold2[0] or i>simple_threshold2[1]) else 0 for i in score2_test]\n",
    "\n",
    "f, (ax1, ax2) = plt.subplots(nrows=1, ncols=2, figsize=(16,10))\n",
    "sns.boxplot(x=score1_test, ax=ax1)\n",
    "sns.boxplot(x=score2_test, ax=ax2)\n",
    "ax1.set_title('Score of test samples using GMM1')\n",
    "ax2.set_title('Score of test samples using GMM2')\n",
    "plt.show()"
   ]
  },
  {
   "cell_type": "code",
   "execution_count": null,
   "metadata": {
    "id": "t4m3CjPMxdxa"
   },
   "outputs": [],
   "source": [
    "from sklearn.decomposition import PCA\n",
    "pca = PCA(n_components=2).fit(X_train)"
   ]
  },
  {
   "cell_type": "code",
   "execution_count": null,
   "metadata": {
    "id": "QCzcOlbUz63s"
   },
   "outputs": [],
   "source": [
    "labels_dict = {0:'inlier', 1:'outlier'}\n",
    "labels_dict_true = {0:'true inlier', 1:'true outlier'}\n",
    "labels_test1 = pd.Series(y_test_pred1).map(labels_dict)\n",
    "labels_val1 = pd.Series(y_val1).map(labels_dict)\n",
    "labels_test2 = pd.Series(y_test_pred2).map(labels_dict)\n",
    "labels_val2 = pd.Series(y_val2).map(labels_dict)\n",
    "labels_test_true = pd.Series(y_test).map(labels_dict_true)"
   ]
  },
  {
   "cell_type": "code",
   "execution_count": null,
   "metadata": {
    "colab": {
     "base_uri": "https://localhost:8080/",
     "height": 607
    },
    "id": "P1raJD1nx_LO",
    "outputId": "dbdc07f9-97ec-4988-bd6b-14118a61a7d3"
   },
   "outputs": [],
   "source": [
    "test_pca = pca.transform(X_test)\n",
    "fig, (ax1, ax2, ax3) = plt.subplots(nrows=1, ncols=3, figsize=(21,10))\n",
    "sns.scatterplot(x=test_pca[:,0], y=test_pca[:,1], hue = labels_test1, ax = ax1)\n",
    "sns.scatterplot(x=test_pca[:,0], y=test_pca[:,1], hue = labels_test2, ax = ax2)\n",
    "sns.scatterplot(x=test_pca[:,0], y=test_pca[:,1], hue = labels_test_true, ax = ax3)\n",
    "ax1.set_title('GMM1 on test set')\n",
    "ax2.set_title('GMM2 on test set')\n",
    "ax3.set_title('Ground Truth test set')\n",
    "plt.show()"
   ]
  },
  {
   "cell_type": "code",
   "execution_count": null,
   "metadata": {
    "colab": {
     "base_uri": "https://localhost:8080/",
     "height": 607
    },
    "id": "ruYORfypyBxf",
    "outputId": "8f1a0ca4-b2b6-4902-ca3f-e2e98ccc5f10"
   },
   "outputs": [],
   "source": [
    "val_pca = pca.transform(X_val)\n",
    "fig, (ax1, ax2) = plt.subplots(nrows=1, ncols=2, figsize=(16,10))\n",
    "sns.scatterplot(x=val_pca[:,0], y=val_pca[:,1], hue = labels_val1, ax = ax1)\n",
    "sns.scatterplot(x=val_pca[:,0], y=val_pca[:,1], hue = labels_val2, ax = ax2)\n",
    "ax1.set_title('GMM1 on validation set')\n",
    "ax2.set_title('GMM2 on validation set')\n",
    "plt.show()"
   ]
  },
  {
   "cell_type": "markdown",
   "metadata": {
    "id": "ZQG3I5apxoTW"
   },
   "source": [
    "## Podsumowanie\n",
    "\n",
    "Modele GMM mogą być używane do wykrywania outlierów. Na przykładowym zbiorze danych otrzymaliśmy doskonałe wyniki wykrywania zarówno outlierów jak i inlierów. Jednak dla pewności należałoby sprawdzić wyniki dla większych zbiorów danych. Wyniki otrzymane w tym przykładzie wydają się być zbyt doskonałe by były prawdziwe. Istotną kwestią dodatkowo jest ustawienie threshold jaki uznamy za outlier. Utrudnia to zadanie wykrywania outlierów tą metodą."
   ]
  }
 ],
 "metadata": {
  "colab": {
   "collapsed_sections": [],
   "name": "WUM-PD7.ipynb",
   "provenance": [],
   "toc_visible": true
  },
  "kernelspec": {
   "display_name": "Python 3",
   "language": "python",
   "name": "python3"
  },
  "language_info": {
   "codemirror_mode": {
    "name": "ipython",
    "version": 3
   },
   "file_extension": ".py",
   "mimetype": "text/x-python",
   "name": "python",
   "nbconvert_exporter": "python",
   "pygments_lexer": "ipython3",
   "version": "3.7.4"
  }
 },
 "nbformat": 4,
 "nbformat_minor": 4
}
