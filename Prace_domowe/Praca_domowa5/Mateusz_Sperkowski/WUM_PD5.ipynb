{
 "cells": [
  {
   "cell_type": "markdown",
   "metadata": {
    "id": "WruQgFg-h_1-"
   },
   "source": [
    "# Zadanie domowe 5 - Mateusz Sperkowski"
   ]
  },
  {
   "cell_type": "markdown",
   "metadata": {
    "id": "6D_1yKE1ZDlT"
   },
   "source": [
    "W poniższej pracy korzystam z tych dwóch źródeł informacji:\n",
    "\n",
    "https://scikit-learn.org/stable/modules/classes.html#module-sklearn.metrics.cluster\n",
    "\n",
    "https://scikit-learn.org/stable/modules/clustering.html#clustering"
   ]
  },
  {
   "cell_type": "code",
   "execution_count": null,
   "metadata": {
    "id": "-7Fma4I1iC0W"
   },
   "outputs": [],
   "source": [
    "from sklearn.cluster import KMeans, AffinityPropagation, MeanShift, SpectralClustering, AgglomerativeClustering\n",
    "from sklearn.metrics import calinski_harabasz_score, davies_bouldin_score, silhouette_score\n",
    "import matplotlib.pyplot as plt\n",
    "import numpy as np\n",
    "import pandas as pd"
   ]
  },
  {
   "cell_type": "code",
   "execution_count": null,
   "metadata": {
    "id": "iiIwdX8NiPm_"
   },
   "outputs": [],
   "source": [
    "data = pd.read_csv(\"clustering.csv\")"
   ]
  },
  {
   "cell_type": "code",
   "execution_count": null,
   "metadata": {
    "id": "JaI5pG56iT_N"
   },
   "outputs": [],
   "source": [
    "X = data.iloc[:,0]\n",
    "Y = data.iloc[:,1]"
   ]
  },
  {
   "cell_type": "code",
   "execution_count": null,
   "metadata": {
    "colab": {
     "base_uri": "https://localhost:8080/",
     "height": 265
    },
    "id": "bsSwebunixBz",
    "outputId": "c961aa13-b2cc-4f38-9e22-faf4261c7dcb"
   },
   "outputs": [],
   "source": [
    "plt.scatter(X, Y, alpha=0.5)\n",
    "plt.show()"
   ]
  },
  {
   "cell_type": "code",
   "execution_count": null,
   "metadata": {
    "colab": {
     "base_uri": "https://localhost:8080/"
    },
    "id": "XBUFdK2xyBes",
    "outputId": "46a47e9e-9f13-4ef5-c678-87bdb17a4f39"
   },
   "outputs": [],
   "source": [
    "#From documentation: The best value is 1 and the worst value is -1. \n",
    "#Values near 0 indicate overlapping clusters.\n",
    "for i in range(3,13):\n",
    "  km = KMeans(n_clusters=i, algorithm='full')\n",
    "  cluster = km.fit_predict(data)\n",
    "  print(f\"{i}-clusters, Silhouette score: {silhouette_score(data, cluster)}\")"
   ]
  },
  {
   "cell_type": "code",
   "execution_count": null,
   "metadata": {
    "colab": {
     "base_uri": "https://localhost:8080/",
     "height": 265
    },
    "id": "KP0D2QbAi0mx",
    "outputId": "8ae461cd-02e4-4424-8e7c-64b9db059bef"
   },
   "outputs": [],
   "source": [
    "km = KMeans(n_clusters=8, algorithm='full')\n",
    "cluster = km.fit_predict(data)\n",
    "plt.scatter(X, Y, alpha=0.5, c=cluster)\n",
    "plt.show()"
   ]
  },
  {
   "cell_type": "markdown",
   "metadata": {
    "id": "UozLB2QbdER5"
   },
   "source": [
    "Korzystająć z Silhouette_score otrzymujemy 8 klastrów (wyczytujemy z wypisanych wyników), wynik zgadza się z tym jak optycznie podzielilibyśmy zbiór na klastry."
   ]
  },
  {
   "cell_type": "code",
   "execution_count": null,
   "metadata": {
    "colab": {
     "base_uri": "https://localhost:8080/",
     "height": 265
    },
    "id": "Veav_GVEyoNO",
    "outputId": "17a3b534-7adc-41a8-b85c-249e27978c5b"
   },
   "outputs": [],
   "source": [
    "#from documentation: A higher Calinski-Harabasz score relates to a model with better defined clusters.\n",
    "harab_score = []\n",
    "index = [i for i in range(5,15)]\n",
    "for i in index:\n",
    "  ac = AgglomerativeClustering(n_clusters=i)\n",
    "  cluster = ac.fit_predict(data)\n",
    "  harab_score.append(calinski_harabasz_score(data, cluster))\n",
    "plt.scatter(index, harab_score)\n",
    "plt.plot(index, harab_score)\n",
    "plt.show()"
   ]
  },
  {
   "cell_type": "code",
   "execution_count": null,
   "metadata": {
    "colab": {
     "base_uri": "https://localhost:8080/",
     "height": 265
    },
    "id": "8yPGLNhnW5Bd",
    "outputId": "ac95b52e-d85e-42ce-e318-81990c2a5372"
   },
   "outputs": [],
   "source": [
    "ac = AgglomerativeClustering(n_clusters=11)\n",
    "cluster = ac.fit_predict(data)\n",
    "plt.scatter(X, Y, alpha=0.5, c=cluster)\n",
    "plt.show()"
   ]
  },
  {
   "cell_type": "markdown",
   "metadata": {
    "id": "NFGaHtWwdZ77"
   },
   "source": [
    "Dla klastrowania aglomeracyjnego użyty został calinski_harabasz_score, gdzie najlepszy wynik zostal osiągnięty dla 11 klastrów (wyczytujemy z wykresu), w przeciwieństwie do poprzednich 8'miu."
   ]
  },
  {
   "cell_type": "code",
   "execution_count": null,
   "metadata": {
    "colab": {
     "base_uri": "https://localhost:8080/",
     "height": 265
    },
    "id": "Wk1ssom1YA4-",
    "outputId": "ef7e4290-185b-4f87-a57d-ae02c1953a8d"
   },
   "outputs": [],
   "source": [
    "ac2 = AgglomerativeClustering(n_clusters=11, linkage='single')\n",
    "cluster = ac2.fit_predict(data)\n",
    "plt.scatter(X, Y, alpha=0.6, c=cluster)\n",
    "plt.show()"
   ]
  },
  {
   "cell_type": "code",
   "execution_count": null,
   "metadata": {
    "colab": {
     "base_uri": "https://localhost:8080/",
     "height": 265
    },
    "id": "rv2bbMAPd1VQ",
    "outputId": "6b6577da-60e7-42fe-944b-b5e57d60e7f8"
   },
   "outputs": [],
   "source": [
    "ac2 = AgglomerativeClustering(n_clusters=8, linkage='single')\n",
    "cluster = ac2.fit_predict(data)\n",
    "plt.scatter(X, Y, alpha=0.6, c=cluster)\n",
    "plt.show()"
   ]
  },
  {
   "cell_type": "code",
   "execution_count": null,
   "metadata": {
    "colab": {
     "base_uri": "https://localhost:8080/",
     "height": 265
    },
    "id": "V6xc0Pf_draV",
    "outputId": "dd5aa529-17a7-4e30-e493-7b6adabbd33c"
   },
   "outputs": [],
   "source": [
    "ac2 = AgglomerativeClustering(n_clusters=8)\n",
    "cluster = ac2.fit_predict(data)\n",
    "plt.scatter(X, Y, alpha=0.6, c=cluster)\n",
    "plt.show()"
   ]
  },
  {
   "cell_type": "markdown",
   "metadata": {
    "id": "QqkRVIyQd5CN"
   },
   "source": [
    "Powyżej zobrazowane jest że ilość klastrów jest zależna od metody klastrowania, nie jesteśmy w stanie łatwo \"przenieść\" optymalnej ilości klastrów między metodami."
   ]
  },
  {
   "cell_type": "code",
   "execution_count": null,
   "metadata": {
    "colab": {
     "base_uri": "https://localhost:8080/",
     "height": 265
    },
    "id": "F17juYMJ09H0",
    "outputId": "c56bbce4-d6f3-4558-831d-b6b57ef51740"
   },
   "outputs": [],
   "source": [
    "harab_score = []\n",
    "index = [i for i in range(5,20)]\n",
    "for i in index:\n",
    "  ac = AgglomerativeClustering(n_clusters=i, linkage='single')\n",
    "  cluster = ac.fit_predict(data)\n",
    "  #A higher Calinski-Harabasz score relates to a model with better defined clusters.\n",
    "  harab_score.append(calinski_harabasz_score(data, cluster))\n",
    "plt.scatter(index, harab_score)\n",
    "plt.plot(index, harab_score)\n",
    "plt.show()"
   ]
  },
  {
   "cell_type": "code",
   "execution_count": null,
   "metadata": {
    "colab": {
     "base_uri": "https://localhost:8080/",
     "height": 265
    },
    "id": "5kK4y_RK1F7I",
    "outputId": "943a1216-78b8-411a-c076-ecd00a57183c"
   },
   "outputs": [],
   "source": [
    "ac3 = AgglomerativeClustering(n_clusters=14, linkage='single')\n",
    "cluster = ac3.fit_predict(data)\n",
    "plt.scatter(X, Y, alpha=0.6, c=cluster)\n",
    "plt.show()"
   ]
  },
  {
   "cell_type": "markdown",
   "metadata": {
    "id": "rOg8HF7VeNVD"
   },
   "source": [
    "Wynik dla metody aglomeracyjnej z innym algorytmem, otrzymujemy inna optymalna ilość klastrów.\n",
    "\n"
   ]
  },
  {
   "cell_type": "code",
   "execution_count": null,
   "metadata": {
    "colab": {
     "base_uri": "https://localhost:8080/",
     "height": 265
    },
    "id": "uGyY_h1jMwX2",
    "outputId": "bf568b09-e324-4472-f53b-e6b8d3ce7062"
   },
   "outputs": [],
   "source": [
    "ap = AffinityPropagation()\n",
    "cluster = ap.fit_predict(data)\n",
    "plt.scatter(X, Y, alpha=0.5, c=cluster)\n",
    "plt.show()"
   ]
  },
  {
   "cell_type": "code",
   "execution_count": null,
   "metadata": {
    "colab": {
     "base_uri": "https://localhost:8080/",
     "height": 265
    },
    "id": "FXXfTaDJJdrl",
    "outputId": "115bc1d3-c04b-4f33-9a6d-c097ca626757"
   },
   "outputs": [],
   "source": [
    "ms = MeanShift(bandwidth=20)\n",
    "cluster = ms.fit_predict(data)\n",
    "plt.scatter(X, Y, alpha=0.5, c=cluster)\n",
    "plt.show()"
   ]
  },
  {
   "cell_type": "markdown",
   "metadata": {
    "id": "FWm7OD5-eeiC"
   },
   "source": [
    "Tu testy metod bez podawania ilości klastrów."
   ]
  }
 ],
 "metadata": {
  "colab": {
   "name": "WUM-PD5.ipynb",
   "provenance": [],
   "toc_visible": true
  },
  "kernelspec": {
   "display_name": "WUM_python",
   "language": "python",
   "name": "wum_python"
  },
  "language_info": {
   "codemirror_mode": {
    "name": "ipython",
    "version": 3
   },
   "file_extension": ".py",
   "mimetype": "text/x-python",
   "name": "python",
   "nbconvert_exporter": "python",
   "pygments_lexer": "ipython3",
   "version": "3.9.1"
  }
 },
 "nbformat": 4,
 "nbformat_minor": 4
}
