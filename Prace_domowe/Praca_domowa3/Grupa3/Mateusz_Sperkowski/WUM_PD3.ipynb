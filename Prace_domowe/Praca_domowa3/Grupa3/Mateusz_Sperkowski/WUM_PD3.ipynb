{
 "cells": [
  {
   "cell_type": "markdown",
   "metadata": {
    "id": "HH7HsVCfz9a1"
   },
   "source": [
    "# WUM PD3"
   ]
  },
  {
   "cell_type": "markdown",
   "metadata": {
    "id": "MmVVkjQU0AJK"
   },
   "source": [
    "Dane pochodzą z https://www.kaggle.com/jsphyg/weather-dataset-rattle-package."
   ]
  },
  {
   "cell_type": "code",
   "execution_count": null,
   "metadata": {
    "id": "9MLDa2ZnMyAI"
   },
   "outputs": [],
   "source": [
    "import pandas as pd\n",
    "import numpy as np\n",
    "from sklearn.ensemble import RandomForestClassifier\n",
    "from sklearn.model_selection import train_test_split\n",
    "from sklearn.linear_model import LogisticRegression\n",
    "from sklearn.tree import DecisionTreeClassifier\n",
    "from sklearn.svm import LinearSVC\n",
    "from sklearn.metrics import accuracy_score, precision_score, recall_score, f1_score, roc_auc_score\n",
    "import warnings\n",
    "import random\n",
    "warnings.filterwarnings('ignore')"
   ]
  },
  {
   "cell_type": "code",
   "execution_count": null,
   "metadata": {
    "id": "e-HsxWc2wa1V"
   },
   "outputs": [],
   "source": [
    "np.random.seed(42)\n",
    "random.seed(42)"
   ]
  },
  {
   "cell_type": "code",
   "execution_count": null,
   "metadata": {
    "colab": {
     "base_uri": "https://localhost:8080/"
    },
    "id": "pSB3DU5fNs1h",
    "outputId": "6be86d87-7fa4-4d92-c7e5-1495e3896ad2"
   },
   "outputs": [],
   "source": [
    "data = pd.read_csv(\"australia.csv\")\n",
    "print(data)\n",
    "y = np.array(data[\"RainTomorrow\"])\n",
    "X = data.drop([\"RainTomorrow\"], axis=1)\n",
    "X.columns"
   ]
  },
  {
   "cell_type": "code",
   "execution_count": null,
   "metadata": {
    "id": "kdu7LNKaNqWk"
   },
   "outputs": [],
   "source": [
    "X_train, X_val, y_train, y_val = train_test_split(X, y, test_size=0.33, random_state=42, stratify=y)\n",
    "X_val, X_test, y_val, y_test = train_test_split(X_val, y_val, stratify=y_val, test_size=0.3, random_state=42)"
   ]
  },
  {
   "cell_type": "code",
   "execution_count": null,
   "metadata": {
    "id": "83hD3WaNOFyQ"
   },
   "outputs": [],
   "source": [
    "lr = LogisticRegression(max_iter=1000, penalty = 'l2', solver='saga')\n",
    "tree = DecisionTreeClassifier(max_depth=10, max_features='auto')\n",
    "SVM = LinearSVC(penalty='l2', loss='squared_hinge')\n",
    "forest = RandomForestClassifier(n_estimators=100, random_state=10, min_samples_leaf=5)\n",
    "estimators = [('Logistic Regression', lr), ('Decision Tree', tree), ('Random Forest', forest), ('SVM', SVM)]\n",
    "scoring = ['accuracy', 'precision', 'recall', 'f1', 'roc_auc']\n",
    "matrix = []\n",
    "for name, model in estimators:\n",
    "    row = [name]\n",
    "    model.fit(X_train, y_train)\n",
    "    y_hat = model.predict(X_test)\n",
    "    row.append(accuracy_score(y_test, y_hat))\n",
    "    row.append(precision_score(y_test, y_hat))\n",
    "    row.append(recall_score(y_test, y_hat))\n",
    "    row.append(f1_score(y_test, y_hat))\n",
    "    row.append(roc_auc_score(y_test, y_hat))\n",
    "    matrix.append(row)\n",
    "result = pd.DataFrame(matrix, columns=[\"Model\", \"Accuracy\", \"Precision\", \"Recall\", \"F1\", \"Roc-Auc\"])"
   ]
  },
  {
   "cell_type": "code",
   "execution_count": null,
   "metadata": {
    "colab": {
     "base_uri": "https://localhost:8080/",
     "height": 175
    },
    "id": "-_ljqmN8wvJm",
    "outputId": "c17efdd2-a5ef-4ccc-b199-9343ed2974ad"
   },
   "outputs": [],
   "source": [
    "result"
   ]
  },
  {
   "cell_type": "markdown",
   "metadata": {
    "id": "_-pUrq4Ne9WQ"
   },
   "source": [
    "Wybranie 'najlepszego' modelu jest dość subiektywną opinią, a dodatkowo istotne jest którą metryke użyjemy do porównań. Zależnie od tego co jest ważne w danym problemie różne metryki będą istotniejsze dla systemu (czy ważne wykrycie False Positive, False Negatives, itd.). W tym wypadku Random Forest jest najlepszym wyborem w każdej z metryk, więc oczywiście wybralibyśmy go."
   ]
  }
 ],
 "metadata": {
  "accelerator": "GPU",
  "colab": {
   "name": "WUM-PD3.ipynb",
   "provenance": [],
   "toc_visible": true
  },
  "kernelspec": {
   "display_name": "Python 3",
   "language": "python",
   "name": "python3"
  },
  "language_info": {
   "codemirror_mode": {
    "name": "ipython",
    "version": 3
   },
   "file_extension": ".py",
   "mimetype": "text/x-python",
   "name": "python",
   "nbconvert_exporter": "python",
   "pygments_lexer": "ipython3",
   "version": "3.8.0"
  }
 },
 "nbformat": 4,
 "nbformat_minor": 4
}
